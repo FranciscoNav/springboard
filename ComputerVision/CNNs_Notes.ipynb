{
  "nbformat": 4,
  "nbformat_minor": 0,
  "metadata": {
    "colab": {
      "provenance": [],
      "authorship_tag": "ABX9TyODW2Zudj/aVCOef7s8Kbpy",
      "include_colab_link": true
    },
    "kernelspec": {
      "name": "python3",
      "display_name": "Python 3"
    },
    "language_info": {
      "name": "python"
    }
  },
  "cells": [
    {
      "cell_type": "markdown",
      "metadata": {
        "id": "view-in-github",
        "colab_type": "text"
      },
      "source": [
        "<a href=\"https://colab.research.google.com/github/FranciscoNav/springboard/blob/main/ComputerVision/CNNs_Notes.ipynb\" target=\"_parent\"><img src=\"https://colab.research.google.com/assets/colab-badge.svg\" alt=\"Open In Colab\"/></a>"
      ]
    },
    {
      "cell_type": "markdown",
      "source": [
        "Lecture Refrence:\n",
        "1. https://youtu.be/_L2uYfVV48I\n",
        "2. https://youtu.be/3V9YFPfgyAY\n",
        "Notes: the code below is just notes and practice code from the lecture referenced above. It is not an actual project."
      ],
      "metadata": {
        "id": "fFulL6MFXQ4P"
      }
    },
    {
      "cell_type": "code",
      "execution_count": null,
      "metadata": {
        "id": "deEw4FVcTxfP"
      },
      "outputs": [],
      "source": [
        "from ast import increment_lineno\n",
        "import numpy as np\n",
        "import tensorflow as tf\n",
        "from tensorflow import keras\n",
        "from tensorflow.keras.models import Sequential\n",
        "from tensorflow.keras.layers import Activation, Dense, Flatten, BatchNormalization, Conv2D, MaxPooling2D\n",
        "from tensorflow.keras.optimizers import Adam\n",
        "from tensorflow.keras.metrics import categorical_crossentropy\n",
        "from tensorflow.keras.preprocessing.image import ImageDataGenerator\n",
        "from sklearn.metrics import confusion_matrix\n",
        "import itertools\n",
        "import shutil\n",
        "import random\n",
        "import glob\n",
        "import matplotlib.pyplot as plt\n",
        "import warnings\n",
        "# import kagglehub\n",
        "# Download latest version\n",
        "# path = kagglehub.dataset_download(\"shaunthesheep/microsoft-catsvsdogs-dataset\")\n",
        "# print(\"Path to dataset files:\", path)\n",
        "\n",
        "warnings.simplefilter(action='ignore', category=FutureWarning)\n",
        "%matplotlib inline"
      ]
    },
    {
      "cell_type": "code",
      "source": [
        "# Organize data into train, valid test dir\n",
        "os.chdir('data/dogs-vs-cats')\n",
        "if os.path.isdir('train/dog') is False:\n",
        "  os.makedirs('train/dog')\n",
        "  os.makedirs('train/cat')\n",
        "  os.makedirs('valid/dog')\n",
        "  os.makedirs('valid/cat')\n",
        "  os.makedirs('test/dog')\n",
        "  os.makedirs('test/cat')\n",
        "  for c in random.sample(glob.glob('cat*'),500):\n",
        "    shutil.move(c, 'train/cat')\n",
        "  for c in random.sample(glob.glob('dog*'),500):\n",
        "    shutil.move(c, 'train/dog')\n",
        "  for c in random.sample(glob.glob('cat*'),100):\n",
        "    shutil.move(c,'valid/cat')\n",
        "  for c in random.sample(glob.glob('dog*'),100):\n",
        "    shutil.move(c,'valid/dog')\n",
        "  for c in random.sample(glob.glob('cat*'),50):\n",
        "    shutil.move(c,'test/cat')\n",
        "  for c in random.sample(glob.glob('dog*'),50):\n",
        "    shutil.move(c,'test/cat')\n",
        "\n",
        "os.chdir('../../')"
      ],
      "metadata": {
        "id": "_1pj-h52UZYD"
      },
      "execution_count": null,
      "outputs": []
    },
    {
      "cell_type": "code",
      "source": [
        "train_path = 'data/dogs-vs-cats/train'\n",
        "valid_path = 'data/dogs-vs-cats/valid'\n",
        "test_path = 'data/dogs-vs-cats/test'"
      ],
      "metadata": {
        "id": "w4i8kxnUVQtr"
      },
      "execution_count": null,
      "outputs": []
    },
    {
      "cell_type": "code",
      "source": [
        "train_batches = ImageDataGenerator(preprocessing_function=tf.keras.applications.vg16.preprocess_input).flow_from_directory(directory=train_path, target_size=(224,224), classes=['cat','dog'], batch_size=10)\n",
        "valid_batches = ImageDataGenerator(preprocessing_function=tf.keras.applications.vg16.preprocess_input).flow_from_directory(directory=valid_path, target_size=(224,224), classes=['cat','dog'], batch_size=10)\n",
        "test_batches = ImageDataGenerator(preprocessing_function=tf.keras.applications.vg16.preprocess_input).flow_from_directory(directory=test_path, target_size=(224,224), classes=['cat','dog'], batch_size=10, shuffle=False)"
      ],
      "metadata": {
        "id": "001HKKedV0WF"
      },
      "execution_count": null,
      "outputs": []
    },
    {
      "cell_type": "code",
      "source": [
        "assert train_batches.n == 1000\n",
        "assert valid_batches.n == 200\n",
        "assert test_batches.n == 100\n",
        "assert train_batches.num_classes == valid_batches.num_classes == test_batches.num_classess == 2"
      ],
      "metadata": {
        "id": "1VAfAqjcYZGE"
      },
      "execution_count": null,
      "outputs": []
    },
    {
      "cell_type": "code",
      "source": [
        "imgs, labels = next(train_batches)"
      ],
      "metadata": {
        "id": "lNVWMAeNqoYf"
      },
      "execution_count": null,
      "outputs": []
    },
    {
      "cell_type": "code",
      "source": [
        "model = Sequential([\n",
        "    Conv2D(filters=32, kernel_size=(3,3), activation='relu', padding ='same', input_shape=(224,224,3))\n",
        "    # this will cut image in half\n",
        "    MaxPool2D(pool_size=(2,2), strides=2),\n",
        "    Conv2D(filters=64, kernel_size=(3,3), activation='relu', padding ='same'),\n",
        "    MaxPool2D(pool_size=(2,2), strides=2),\n",
        "    Flatten(),\n",
        "    Dense(units=2, activation='softmax')\n",
        "])"
      ],
      "metadata": {
        "id": "_CRYxBzst7s_"
      },
      "execution_count": null,
      "outputs": []
    },
    {
      "cell_type": "code",
      "source": [
        "model.summary()"
      ],
      "metadata": {
        "id": "OH2x_RaZzGQ7"
      },
      "execution_count": null,
      "outputs": []
    },
    {
      "cell_type": "code",
      "source": [
        "# since we are only doing cats, and dogs...we could use binary crossentropy and Sigmoid rather than softmax above\n",
        "model.compile(optimizer=Adam(learning_rate=0.0001), loss='categorical_crossentropy', mmetrics=[])"
      ],
      "metadata": {
        "id": "0CUcNK-uzKP0"
      },
      "execution_count": null,
      "outputs": []
    },
    {
      "cell_type": "code",
      "source": [
        "model.fit(x=train_batches, validation_data=valid_batches, epochs=10, verbose=2)"
      ],
      "metadata": {
        "id": "Q1OHuiuwzNfm"
      },
      "execution_count": null,
      "outputs": []
    },
    {
      "cell_type": "code",
      "source": [
        "test_imgs, test_labels = next(test_batches)\n",
        "plotImages(test_imgs)"
      ],
      "metadata": {
        "id": "Kpjb8WdOB1Y3"
      },
      "execution_count": null,
      "outputs": []
    },
    {
      "cell_type": "code",
      "source": [
        "test_batches.classes\n",
        "predictions = model.predict(x=test_batches, verbose=0)\n",
        "np.round(predictions)"
      ],
      "metadata": {
        "id": "1ir8uGlUA0PS"
      },
      "execution_count": null,
      "outputs": []
    }
  ]
}