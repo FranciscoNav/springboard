{
  "nbformat": 4,
  "nbformat_minor": 0,
  "metadata": {
    "colab": {
      "provenance": [],
      "authorship_tag": "ABX9TyOlLXF/jDvaUKo6Wht5TtYB",
      "include_colab_link": true
    },
    "kernelspec": {
      "name": "python3",
      "display_name": "Python 3"
    },
    "language_info": {
      "name": "python"
    }
  },
  "cells": [
    {
      "cell_type": "markdown",
      "metadata": {
        "id": "view-in-github",
        "colab_type": "text"
      },
      "source": [
        "<a href=\"https://colab.research.google.com/github/FranciscoNav/springboard/blob/main/Decision_Trees.ipynb\" target=\"_parent\"><img src=\"https://colab.research.google.com/assets/colab-badge.svg\" alt=\"Open In Colab\"/></a>"
      ]
    },
    {
      "cell_type": "markdown",
      "source": [
        "# **Decision Tree Using scikit learn**\n",
        "\n",
        "---"
      ],
      "metadata": {
        "id": "DmqPXEvQPztK"
      }
    },
    {
      "cell_type": "code",
      "execution_count": null,
      "metadata": {
        "id": "Uerpsx2cNM7t"
      },
      "outputs": [],
      "source": []
    },
    {
      "cell_type": "markdown",
      "source": [
        "# **How to visualize Decision trees using Matplotlib**\n",
        "\n",
        "---\n",
        "\n"
      ],
      "metadata": {
        "id": "zckNRxqGP_f1"
      }
    },
    {
      "cell_type": "markdown",
      "source": [
        "# **Badded Trees Using Scikit Learn**\n",
        "\n",
        "---\n",
        "\n"
      ],
      "metadata": {
        "id": "S2JlbRDsQO0l"
      }
    }
  ]
}