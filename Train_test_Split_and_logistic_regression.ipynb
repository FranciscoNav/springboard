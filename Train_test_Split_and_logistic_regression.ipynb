{
  "nbformat": 4,
  "nbformat_minor": 0,
  "metadata": {
    "colab": {
      "provenance": [],
      "authorship_tag": "ABX9TyNVibP+CI72nT3xsMFEulhv",
      "include_colab_link": true
    },
    "kernelspec": {
      "name": "python3",
      "display_name": "Python 3"
    },
    "language_info": {
      "name": "python"
    }
  },
  "cells": [
    {
      "cell_type": "markdown",
      "metadata": {
        "id": "view-in-github",
        "colab_type": "text"
      },
      "source": [
        "<a href=\"https://colab.research.google.com/github/FranciscoNav/springboard/blob/main/Train_test_Split_and_logistic_regression.ipynb\" target=\"_parent\"><img src=\"https://colab.research.google.com/assets/colab-badge.svg\" alt=\"Open In Colab\"/></a>"
      ]
    },
    {
      "cell_type": "markdown",
      "source": [
        "# Train test split\n",
        "\n",
        "---\n",
        "\n"
      ],
      "metadata": {
        "id": "w4xZGsV77Qvp"
      }
    },
    {
      "cell_type": "code",
      "execution_count": null,
      "metadata": {
        "id": "ydvA8oUz6oK1"
      },
      "outputs": [],
      "source": [
        "# The first step is to split your data into two pieces, a training set and a testing set.\n",
        "# Typically, about 75% of the data goes to your training set and about 25% of your data goes to the test set.\n",
        "# The second step of the process is to train the model on the training set.\n",
        "\n",
        "import pandas as pd\n",
        "import matplotlib.pyplot as plt\n",
        "\n",
        "from sklearn.datasets import fetch_california_housing\n",
        "from sklearn.model_selection import train_test_split\n",
        "from sklearn.linear_model import LinearRegression"
      ]
    },
    {
      "cell_type": "code",
      "source": [
        "data = fetch_california_housing()\n",
        "df = pd.DataFrame(data.data, columns=data.feature_names)\n",
        "df['target'] = data.target\n",
        "df.head()"
      ],
      "metadata": {
        "id": "s49cjXd9-0zx"
      },
      "execution_count": null,
      "outputs": []
    },
    {
      "cell_type": "code",
      "source": [
        "# features matrix\n",
        "x = df.loc[:,['HouseAge','AveRooms','AveBedrms']].values\n",
        "\n",
        "# target vector\n",
        "y = df.loc[:, 'target'].values"
      ],
      "metadata": {
        "id": "y45SXiCrBRcP"
      },
      "execution_count": null,
      "outputs": []
    },
    {
      "cell_type": "code",
      "source": [
        "x_train, x_test, y_train, y_test = train_test_split(x,y, random_state=3)"
      ],
      "metadata": {
        "id": "uGLyLr8ZEtW7"
      },
      "execution_count": null,
      "outputs": []
    },
    {
      "cell_type": "code",
      "source": [
        "# make a linear regression instance\n",
        "reg = LinearRegression(fit_intercept=True)\n",
        "\n",
        "#  Train the model on the training set\n",
        "reg.fit(x_train, y_train)"
      ],
      "metadata": {
        "id": "DsqB24OYFAQI"
      },
      "execution_count": null,
      "outputs": []
    },
    {
      "cell_type": "code",
      "source": [
        "# test the model on the testing set and evaluate performance\n",
        "score = reg.score(x_test,y_test)\n",
        "print(score)"
      ],
      "metadata": {
        "id": "UGpxOrEkFckZ"
      },
      "execution_count": null,
      "outputs": []
    },
    {
      "cell_type": "markdown",
      "source": [
        "# Logistic Regression\n",
        "\n",
        "---\n",
        "\n"
      ],
      "metadata": {
        "id": "PrfClfncPUs9"
      }
    },
    {
      "cell_type": "code",
      "source": [
        "# Be sure to clear all outputs from above before proceeding\n",
        "# Import libraries\n",
        "import matplotlib.pyplot as plt\n",
        "import numpy as np\n",
        "import seaborn as sns\n",
        "import pandas as pd\n",
        "\n",
        "from sklearn.model_selection import train_test_split\n",
        "from sklearn.preprocessing import StandardScaler\n",
        "from sklearn.linear_model import LogisticRegression\n",
        "from sklearn import metrics"
      ],
      "metadata": {
        "id": "xxc_Q9vEPm6_"
      },
      "execution_count": null,
      "outputs": []
    },
    {
      "cell_type": "code",
      "source": [
        "# A1 us virginica flower and a 0 is versicolor flower\n",
        "df = pd.read_csv('/content/sample_data/modifiedIris2Classes.csv')\n",
        "df.shape\n",
        "df.head()"
      ],
      "metadata": {
        "id": "Ypui9z1-RVPc"
      },
      "execution_count": null,
      "outputs": []
    },
    {
      "cell_type": "code",
      "source": [
        "# Splitting data into training and testing\n",
        "x_train, x_test, y_train, y_test = train_test_split(df[['petal length (cm)']], df['target'],random_state=0)"
      ],
      "metadata": {
        "id": "9iAvtTxuS5TT"
      },
      "execution_count": null,
      "outputs": []
    },
    {
      "cell_type": "markdown",
      "source": [
        "**Standardize the data:**\n",
        "A really important part of this process is to standardize your data. Logistic regression is affected by scale, so you need to scale your features onto unit scale for optimal performance. Unit scale means having a mean of 0 and a variance of 1 for your features. You can utilize scikit-learn's standard scaler to accomplish this."
      ],
      "metadata": {
        "id": "p3lGFAzuYdKL"
      }
    },
    {
      "cell_type": "code",
      "source": [
        "scaler = StandardScaler()\n",
        "\n",
        "# Fit on taining set only\n",
        "scaler.fit(x_train)\n",
        "\n",
        "# Apply transform to both the training set and the test set\n",
        "x_train = scaler.transform(x_train)\n",
        "x_test = scaler.transform(x_test)"
      ],
      "metadata": {
        "id": "rfblhfLLWus5"
      },
      "execution_count": null,
      "outputs": []
    },
    {
      "cell_type": "code",
      "source": [
        "# Make instance of model\n",
        "clf = LogisticRegression()\n",
        "\n",
        "# Training the model on the data, storing the information learned from the data\n",
        "# Model is learning the relationship between x(features sepal width, sepal hight ect) and y (labels-which species of iris)\n",
        "clf.fit(x_train, y_train)"
      ],
      "metadata": {
        "id": "sIrUQDCOb0UV"
      },
      "execution_count": null,
      "outputs": []
    },
    {
      "cell_type": "markdown",
      "source": [
        "Predict the labels of new data (new flowers)"
      ],
      "metadata": {
        "id": "Hkw0f-Rydo0G"
      }
    },
    {
      "cell_type": "code",
      "source": [
        "# one observation  petal length after standardization\n",
        "x_test[0].reshape(1,-1)"
      ],
      "metadata": {
        "id": "Rt9mHsLUdDov"
      },
      "execution_count": null,
      "outputs": []
    },
    {
      "cell_type": "code",
      "source": [
        "print('prediction', clf.predict(x_test[0].reshape(1,-1))[0])\n",
        "print('probability', clf.predict_proba(x_test[0].reshape(1,-1)))\n",
        "# What this code is showing is a prediction for one flower sample. The prediction was zero.\n",
        "# The probability of a zero, according to the model was 0.52, the probability of one was 0.47."
      ],
      "metadata": {
        "id": "2SGreCFeeBFt"
      },
      "execution_count": null,
      "outputs": []
    },
    {
      "cell_type": "code",
      "source": [
        "# Accuracy is defined as: correct predictions/ total number of data points\n",
        "score = clf.score(x_test,y_test)\n",
        "print(score)"
      ],
      "metadata": {
        "id": "ZJrrr1-Jegx5"
      },
      "execution_count": null,
      "outputs": []
    },
    {
      "cell_type": "markdown",
      "source": [
        "# Logistic Regression for multiclass Classification\n",
        "\n",
        "---\n",
        "\n"
      ],
      "metadata": {
        "id": "XlTJLgi3gOLX"
      }
    },
    {
      "cell_type": "code",
      "source": [
        "# Be sure to clear all outputs from above before proceeding\n",
        "# Import libraries\n",
        "import matplotlib.pyplot as plt\n",
        "import pandas as pd\n",
        "\n",
        "from sklearn.model_selection import train_test_split\n",
        "from sklearn.preprocessing import StandardScaler\n",
        "from sklearn.linear_model import LogisticRegression"
      ],
      "metadata": {
        "id": "UYsjwMqNglBi"
      },
      "execution_count": 60,
      "outputs": []
    },
    {
      "cell_type": "code",
      "source": [
        "# Load Dataset\n",
        "df = pd.read_csv('/content/sample_data/modifiedDigits4Classes.csv')\n",
        "df.head()\n",
        "df.shape"
      ],
      "metadata": {
        "colab": {
          "base_uri": "https://localhost:8080/"
        },
        "id": "OD1jEEv_nauD",
        "outputId": "20d39087-5b49-462e-d899-13fff9f69821"
      },
      "execution_count": 61,
      "outputs": [
        {
          "output_type": "execute_result",
          "data": {
            "text/plain": [
              "(720, 65)"
            ]
          },
          "metadata": {},
          "execution_count": 61
        }
      ]
    },
    {
      "cell_type": "markdown",
      "source": [
        "### Visualize Each Digit"
      ],
      "metadata": {
        "id": "Riu2WGzWqpEs"
      }
    },
    {
      "cell_type": "code",
      "source": [
        "pixel_colnames = df.columns[:-1]\n",
        "pixel_colnames"
      ],
      "metadata": {
        "colab": {
          "base_uri": "https://localhost:8080/"
        },
        "id": "CnpLR77vn6vb",
        "outputId": "2c7069ec-06eb-424a-ce17-08d88c8f9951"
      },
      "execution_count": 62,
      "outputs": [
        {
          "output_type": "execute_result",
          "data": {
            "text/plain": [
              "Index(['0', '1', '2', '3', '4', '5', '6', '7', '8', '9', '10', '11', '12',\n",
              "       '13', '14', '15', '16', '17', '18', '19', '20', '21', '22', '23', '24',\n",
              "       '25', '26', '27', '28', '29', '30', '31', '32', '33', '34', '35', '36',\n",
              "       '37', '38', '39', '40', '41', '42', '43', '44', '45', '46', '47', '48',\n",
              "       '49', '50', '51', '52', '53', '54', '55', '56', '57', '58', '59', '60',\n",
              "       '61', '62', '63'],\n",
              "      dtype='object')"
            ]
          },
          "metadata": {},
          "execution_count": 62
        }
      ]
    },
    {
      "cell_type": "code",
      "source": [
        "# Get all columns except the label column for first image\n",
        "image_values = df.loc[0, pixel_colnames].values\n",
        "image_values"
      ],
      "metadata": {
        "colab": {
          "base_uri": "https://localhost:8080/"
        },
        "id": "Bcqz6CxxoT0p",
        "outputId": "0b940a27-7d88-4740-fb04-c26324aa4aec"
      },
      "execution_count": 69,
      "outputs": [
        {
          "output_type": "execute_result",
          "data": {
            "text/plain": [
              "array([ 0,  0,  5, 13,  9,  1,  0,  0,  0,  0, 13, 15, 10, 15,  5,  0,  0,\n",
              "        3, 15,  2,  0, 11,  8,  0,  0,  4, 12,  0,  0,  8,  8,  0,  0,  5,\n",
              "        8,  0,  0,  9,  8,  0,  0,  4, 11,  0,  1, 12,  7,  0,  0,  2, 14,\n",
              "        5, 10, 12,  0,  0,  0,  0,  6, 13, 10,  0,  0,  0])"
            ]
          },
          "metadata": {},
          "execution_count": 69
        }
      ]
    },
    {
      "cell_type": "code",
      "source": [
        "plt.figure(figsize=(10,2))\n",
        "for index in range(0,4):\n",
        "  plt.subplot(1,5,1 + index)\n",
        "  image_values = df.loc[index, pixel_colnames].values\n",
        "  image_label = df.loc[index,'label']\n",
        "  plt.imshow(image_values.reshape(8,8), cmap ='gray')\n",
        "  plt.title('Label:' + str(image_label))"
      ],
      "metadata": {
        "colab": {
          "base_uri": "https://localhost:8080/",
          "height": 216
        },
        "id": "GEWGRNOPop7t",
        "outputId": "1b73b21a-5f96-410f-e6b7-182f78ca261f"
      },
      "execution_count": 64,
      "outputs": [
        {
          "output_type": "display_data",
          "data": {
            "text/plain": [
              "<Figure size 1000x200 with 4 Axes>"
            ],
            "image/png": "[encoded data removed]"
          },
          "metadata": {}
        }
      ]
    },
    {
      "cell_type": "code",
      "source": [
        "# Split data into Training and test sets\n",
        "x_train, x_test, y_train, y_test = train_test_split(df[pixel_colnames], df['label'],random_state=0)"
      ],
      "metadata": {
        "id": "yUbSdBACq6Yi"
      },
      "execution_count": 65,
      "outputs": []
    },
    {
      "cell_type": "code",
      "source": [
        "# Standardize the data\n",
        "scaler = StandardScaler()\n",
        "\n",
        "# Fit on training set only\n",
        "scaler.fit(x_train)\n",
        "\n",
        "# Apply transform to both the training set and the test set\n",
        "x_train = scaler.transform(x_train)\n",
        "x_test = scaler.transform(x_test)"
      ],
      "metadata": {
        "id": "DSYA94YJrOOr"
      },
      "execution_count": 66,
      "outputs": []
    },
    {
      "cell_type": "code",
      "source": [
        "# logistic regression\n",
        "\n",
        "# multi-class is specifying one versus rest\n",
        "clf = LogisticRegression(solver='liblinear', multi_class='ovr', random_state=0)\n",
        "\n",
        "clf.fit(x_train, y_train)\n",
        "print('Training accuracy:', clf.score(x_train, y_train))\n",
        "print('Test accuracy:', clf.score(x_test, y_test))"
      ],
      "metadata": {
        "colab": {
          "base_uri": "https://localhost:8080/"
        },
        "id": "v-BhbpXcrRxB",
        "outputId": "479a0f2b-49fb-4a38-d257-178f437b256b"
      },
      "execution_count": 67,
      "outputs": [
        {
          "output_type": "stream",
          "name": "stdout",
          "text": [
            "Training accuracy: 1.0\n",
            "Test accuracy: 1.0\n"
          ]
        },
        {
          "output_type": "stream",
          "name": "stderr",
          "text": [
            "/usr/local/lib/python3.10/dist-packages/sklearn/linear_model/_logistic.py:1256: FutureWarning: 'multi_class' was deprecated in version 1.5 and will be removed in 1.7. Use OneVsRestClassifier(LogisticRegression(..)) instead. Leave it to its default value to avoid this warning.\n",
            "  warnings.warn(\n"
          ]
        }
      ]
    },
    {
      "cell_type": "code",
      "source": [
        "print(clf.intercept_)\n",
        "print(clf.coef_.shape)"
      ],
      "metadata": {
        "colab": {
          "base_uri": "https://localhost:8080/"
        },
        "id": "ah9wVr0jvtZf",
        "outputId": "9338be5e-854b-4963-c523-956d236c4e19"
      },
      "execution_count": 74,
      "outputs": [
        {
          "output_type": "stream",
          "name": "stdout",
          "text": [
            "[-2.712674   -3.54379096 -3.18367757 -2.623974  ]\n",
            "(4, 64)\n"
          ]
        }
      ]
    },
    {
      "cell_type": "code",
      "source": [
        "# Predictions\n",
        "# the second class is the highest score it will be the prediction for this data\n",
        "clf.predict_proba(x_test[0:1])\n",
        "# clf.predict(x_test[0:1])"
      ],
      "metadata": {
        "colab": {
          "base_uri": "https://localhost:8080/"
        },
        "id": "MkI1cVc2v6l4",
        "outputId": "3af111c4-2894-4899-dd26-5c9d5af1b51d"
      },
      "execution_count": 80,
      "outputs": [
        {
          "output_type": "execute_result",
          "data": {
            "text/plain": [
              "array([1])"
            ]
          },
          "metadata": {},
          "execution_count": 80
        }
      ]
    }
  ]
}